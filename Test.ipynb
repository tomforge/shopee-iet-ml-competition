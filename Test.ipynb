{
 "cells": [
  {
   "cell_type": "code",
   "execution_count": 1,
   "metadata": {},
   "outputs": [
    {
     "name": "stderr",
     "output_type": "stream",
     "text": [
      "c:\\users\\tomforge\\anaconda3\\envs\\aicv\\lib\\site-packages\\h5py\\__init__.py:36: FutureWarning: Conversion of the second argument of issubdtype from `float` to `np.floating` is deprecated. In future, it will be treated as `np.float64 == np.dtype(float).type`.\n",
      "  from ._conv import register_converters as _register_converters\n",
      "Using TensorFlow backend.\n"
     ]
    }
   ],
   "source": [
    "import numpy as np\n",
    "from keras.models import load_model\n",
    "from keras.preprocessing.image import ImageDataGenerator\n",
    "import pandas as pd"
   ]
  },
  {
   "cell_type": "code",
   "execution_count": 2,
   "metadata": {},
   "outputs": [],
   "source": [
    "# Loads the trained model\n",
    "model = load_model(\"inceptionv3_2.h5\")"
   ]
  },
  {
   "cell_type": "code",
   "execution_count": 3,
   "metadata": {},
   "outputs": [
    {
     "name": "stdout",
     "output_type": "stream",
     "text": [
      "Found 16111 images belonging to 1 classes.\n"
     ]
    }
   ],
   "source": [
    "PREDICT_DIR = \"TestImages\"\n",
    "IMG_WIDTH, IMG_HEIGHT = 256, 256\n",
    "NUM_PREDICT = 16111\n",
    "\n",
    "# Need to apply the same data preprocessing\n",
    "prediction_datagen = ImageDataGenerator(\n",
    "    rescale = 1./255)\n",
    "\n",
    "# Set no shuffle so the predictions follow file order\n",
    "prediction_generator = prediction_datagen.flow_from_directory(\n",
    "    PREDICT_DIR,\n",
    "    target_size = (IMG_HEIGHT, IMG_WIDTH),\n",
    "    class_mode = \"categorical\",\n",
    "    shuffle = False)"
   ]
  },
  {
   "cell_type": "code",
   "execution_count": 4,
   "metadata": {},
   "outputs": [
    {
     "name": "stdout",
     "output_type": "stream",
     "text": [
      "504/504 [==============================] - 115s 227ms/step\n"
     ]
    }
   ],
   "source": [
    "results = model.predict_generator(prediction_generator, verbose=True)"
   ]
  },
  {
   "cell_type": "code",
   "execution_count": 5,
   "metadata": {},
   "outputs": [],
   "source": [
    "pred_labels = np.argmax(results, axis=1)\n",
    "# Extract image ids from the filenames (which are in order)\n",
    "ids = [int(f[10:-4]) for f in prediction_generator.filenames]"
   ]
  },
  {
   "cell_type": "code",
   "execution_count": 6,
   "metadata": {},
   "outputs": [],
   "source": [
    "# Create the csv for submission\n",
    "sub = pd.DataFrame({'id':ids, 'category':pred_labels})\n",
    "sub = sub.sort_values(by=['id'])\n",
    "# Place id column first\n",
    "sub = sub[['id', 'category']]\n",
    "sub.to_csv('submission3.csv', index=False)"
   ]
  },
  {
   "cell_type": "code",
   "execution_count": null,
   "metadata": {},
   "outputs": [],
   "source": []
  }
 ],
 "metadata": {
  "kernelspec": {
   "display_name": "Python 3",
   "language": "python",
   "name": "python3"
  },
  "language_info": {
   "codemirror_mode": {
    "name": "ipython",
    "version": 3
   },
   "file_extension": ".py",
   "mimetype": "text/x-python",
   "name": "python",
   "nbconvert_exporter": "python",
   "pygments_lexer": "ipython3",
   "version": "3.6.4"
  }
 },
 "nbformat": 4,
 "nbformat_minor": 2
}
