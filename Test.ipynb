{
 "cells": [
  {
   "cell_type": "code",
   "execution_count": 38,
   "metadata": {},
   "outputs": [],
   "source": [
    "import numpy as np\n",
    "from keras.models import load_model\n",
    "from keras.preprocessing.image import ImageDataGenerator\n",
    "import pandas as pd"
   ]
  },
  {
   "cell_type": "code",
   "execution_count": 30,
   "metadata": {},
   "outputs": [],
   "source": [
    "# Loads the trained model\n",
    "model = load_model(\"inceptionv3.h5\")"
   ]
  },
  {
   "cell_type": "code",
   "execution_count": 33,
   "metadata": {},
   "outputs": [
    {
     "name": "stdout",
     "output_type": "stream",
     "text": [
      "Found 16111 images belonging to 1 classes.\n"
     ]
    }
   ],
   "source": [
    "PREDICT_DIR = \"TestImages\"\n",
    "IMG_WIDTH, IMG_HEIGHT = 256, 256\n",
    "NUM_PREDICT = 16111\n",
    "\n",
    "# Need to apply the same data preprocessing\n",
    "prediction_datagen = ImageDataGenerator(\n",
    "    rescale = 1./255)\n",
    "\n",
    "# Set no shuffle so the predictions follow file order\n",
    "prediction_generator = predict_datagen.flow_from_directory(\n",
    "    PREDICT_DIR,\n",
    "    target_size = (IMG_HEIGHT, IMG_WIDTH),\n",
    "    class_mode = \"categorical\",\n",
    "    shuffle = False)"
   ]
  },
  {
   "cell_type": "code",
   "execution_count": 34,
   "metadata": {},
   "outputs": [],
   "source": [
    "results = model.predict_generator(prediction_generator, verbose=True)"
   ]
  },
  {
   "cell_type": "code",
   "execution_count": 35,
   "metadata": {},
   "outputs": [],
   "source": [
    "pred_labels = np.argmax(results, axis=1)\n",
    "# Extract image ids from the filenames (which are in order)\n",
    "ids = [int(f[10:-4]) for f in prediction_generator.filenames]"
   ]
  },
  {
   "cell_type": "code",
   "execution_count": 42,
   "metadata": {},
   "outputs": [],
   "source": [
    "# Create the csv for submission\n",
    "sub = pd.DataFrame({'id':ids, 'category':pred_labels})\n",
    "sub = sub.sort_values(by=['id'])\n",
    "# Place id column first\n",
    "sub = sub[['id', 'category']]\n",
    "sub.to_csv('submission.csv', index=False)"
   ]
  },
  {
   "cell_type": "code",
   "execution_count": null,
   "metadata": {},
   "outputs": [],
   "source": []
  }
 ],
 "metadata": {
  "kernelspec": {
   "display_name": "Python 3",
   "language": "python",
   "name": "python3"
  },
  "language_info": {
   "codemirror_mode": {
    "name": "ipython",
    "version": 3
   },
   "file_extension": ".py",
   "mimetype": "text/x-python",
   "name": "python",
   "nbconvert_exporter": "python",
   "pygments_lexer": "ipython3",
   "version": "3.6.4"
  }
 },
 "nbformat": 4,
 "nbformat_minor": 2
}
