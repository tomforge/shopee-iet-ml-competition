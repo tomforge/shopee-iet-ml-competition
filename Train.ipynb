{
 "cells": [
  {
   "cell_type": "code",
   "execution_count": 33,
   "metadata": {},
   "outputs": [],
   "source": [
    "import numpy as np\n",
    "import matplotlib.pyplot as plt\n",
    "import keras\n",
    "from keras.applications import inception_v3\n",
    "from keras.preprocessing.image import ImageDataGenerator\n",
    "from keras.optimizers import SGD\n",
    "from keras.models import Model, load_model\n",
    "from keras.layers import Dense, Dropout, BatchNormalization, ELU\n",
    "from keras.callbacks import ModelCheckpoint, EarlyStopping"
   ]
  },
  {
   "cell_type": "code",
   "execution_count": 42,
   "metadata": {},
   "outputs": [],
   "source": [
    "TRAIN_DIR = 'data/train'\n",
    "TEST_DIR = 'data/test'\n",
    "#NUM_TRAIN, NUM_TEST = 12808, 1419\n",
    "NUM_TRAIN, NUM_TEST = 34398, 3813\n",
    "# Use ImageNet image sizes\n",
    "IMG_WIDTH, IMG_HEIGHT = 256, 256\n",
    "FC_SIZE = 1024\n",
    "NUM_EPOCHS = 25\n",
    "BATCH_SIZE = 54\n",
    "NB_CLASSES = 18"
   ]
  },
  {
   "cell_type": "code",
   "execution_count": 40,
   "metadata": {},
   "outputs": [
    {
     "name": "stderr",
     "output_type": "stream",
     "text": [
      "c:\\users\\tomforge\\anaconda3\\envs\\aicv\\lib\\site-packages\\keras\\models.py:255: UserWarning: No training configuration found in save file: the model was *not* compiled. Compile it manually.\n",
      "  warnings.warn('No training configuration found in save file: '\n"
     ]
    }
   ],
   "source": [
    "inception4 = load_model(\"inception_v4_finetune_84.h5\")\n",
    "\n",
    "# Save the model according to the conditions\n",
    "checkpoint = ModelCheckpoint(\"inception_v4_difftop.h5\", monitor='val_acc', verbose=1, save_best_only=True,\n",
    "                             save_weights_only=False, mode='auto', period=1)\n",
    "# Terminate early if validation accuracy stop improving over 10 epochs\n",
    "early = EarlyStopping(monitor='val_acc', min_delta=0, patience=5, verbose=1, mode='auto')"
   ]
  },
  {
   "cell_type": "code",
   "execution_count": 30,
   "metadata": {},
   "outputs": [
    {
     "name": "stdout",
     "output_type": "stream",
     "text": [
      "Found 34398 images belonging to 18 classes.\n",
      "Found 3813 images belonging to 18 classes.\n"
     ]
    }
   ],
   "source": [
    "# Initiate the train and test generators with data augumentation \n",
    "train_datagen = ImageDataGenerator(\n",
    "    rescale = 1./255,\n",
    "    horizontal_flip = True,\n",
    "    fill_mode = \"nearest\",\n",
    "    zoom_range = 0.3,\n",
    "    width_shift_range = 0.3,\n",
    "    height_shift_range=0.3,\n",
    "    rotation_range=30)\n",
    "\n",
    "# For test data, rescaling will do\n",
    "test_datagen = ImageDataGenerator(\n",
    "    rescale = 1./255)\n",
    "\n",
    "train_generator = train_datagen.flow_from_directory(\n",
    "    TRAIN_DIR,\n",
    "    target_size = (IMG_HEIGHT, IMG_WIDTH),\n",
    "    batch_size = BATCH_SIZE, \n",
    "    class_mode = \"categorical\")\n",
    "\n",
    "test_generator = test_datagen.flow_from_directory(\n",
    "    TEST_DIR,\n",
    "    target_size = (IMG_HEIGHT, IMG_WIDTH),\n",
    "    class_mode = \"categorical\")"
   ]
  },
  {
   "cell_type": "code",
   "execution_count": 38,
   "metadata": {},
   "outputs": [],
   "source": [
    "for l in inception4.layers:\n",
    "    l.trainable = False\n",
    "x = inception4.layers[-4].output\n",
    "x = Dense(512)(x)\n",
    "x = BatchNormalization(name=\"lol\")(x)\n",
    "x = ELU()(x)\n",
    "x = Dense(512, activation='relu')(x)\n",
    "x = Dropout(0.5)(x)\n",
    "pred = Dense(NB_CLASSES, activation='softmax')(x)\n",
    "new_model = Model(inputs=inception4.input, outputs=pred)\n",
    "# Compile the model for training\n",
    "new_model.compile(optimizer='adam', loss='categorical_hinge', metrics=['accuracy'])"
   ]
  },
  {
   "cell_type": "code",
   "execution_count": 41,
   "metadata": {},
   "outputs": [
    {
     "name": "stdout",
     "output_type": "stream",
     "text": [
      "Epoch 1/25\n",
      "238/237 [==============================] - 282s 1s/step - loss: 0.3743 - acc: 0.8051 - val_loss: 0.3969 - val_acc: 0.8023\n",
      "\n",
      "Epoch 00001: val_acc improved from -inf to 0.80226, saving model to inception_v4_difftop.h5\n",
      "Epoch 2/25\n",
      "238/237 [==============================] - 559s 2s/step - loss: 0.3026 - acc: 0.8487 - val_loss: 0.3870 - val_acc: 0.8057\n",
      "\n",
      "Epoch 00002: val_acc improved from 0.80226 to 0.80566, saving model to inception_v4_difftop.h5\n",
      "Epoch 3/25\n",
      "238/237 [==============================] - 559s 2s/step - loss: 0.3108 - acc: 0.8443 - val_loss: 0.3376 - val_acc: 0.8293\n",
      "\n",
      "Epoch 00003: val_acc improved from 0.80566 to 0.82927, saving model to inception_v4_difftop.h5\n",
      "Epoch 4/25\n",
      "238/237 [==============================] - 546s 2s/step - loss: 0.3074 - acc: 0.8462 - val_loss: 0.3553 - val_acc: 0.8209\n",
      "\n",
      "Epoch 00004: val_acc did not improve\n",
      "Epoch 5/25\n",
      "238/237 [==============================] - 530s 2s/step - loss: 0.3111 - acc: 0.8430 - val_loss: 0.3659 - val_acc: 0.8154\n",
      "\n",
      "Epoch 00005: val_acc did not improve\n",
      "Epoch 6/25\n",
      "238/237 [==============================] - 260s 1s/step - loss: 0.2981 - acc: 0.8498 - val_loss: 0.3312 - val_acc: 0.8329\n",
      "\n",
      "Epoch 00006: val_acc improved from 0.82927 to 0.83294, saving model to inception_v4_difftop.h5\n",
      "Epoch 7/25\n",
      "238/237 [==============================] - 260s 1s/step - loss: 0.2867 - acc: 0.8560 - val_loss: 0.3530 - val_acc: 0.8219\n",
      "\n",
      "Epoch 00007: val_acc did not improve\n",
      "Epoch 8/25\n",
      "238/237 [==============================] - 262s 1s/step - loss: 0.2950 - acc: 0.8515 - val_loss: 0.3547 - val_acc: 0.8211\n",
      "\n",
      "Epoch 00008: val_acc did not improve\n",
      "Epoch 9/25\n",
      "238/237 [==============================] - 271s 1s/step - loss: 0.2904 - acc: 0.8537 - val_loss: 0.3492 - val_acc: 0.8248\n",
      "\n",
      "Epoch 00009: val_acc did not improve\n",
      "Epoch 10/25\n",
      "238/237 [==============================] - 264s 1s/step - loss: 0.3043 - acc: 0.8470 - val_loss: 0.3670 - val_acc: 0.8159\n",
      "\n",
      "Epoch 00010: val_acc did not improve\n",
      "Epoch 11/25\n",
      "238/237 [==============================] - 262s 1s/step - loss: 0.2831 - acc: 0.8584 - val_loss: 0.3588 - val_acc: 0.8204\n",
      "\n",
      "Epoch 00011: val_acc did not improve\n",
      "Epoch 00011: early stopping\n"
     ]
    },
    {
     "data": {
      "text/plain": [
       "<keras.callbacks.History at 0x23680be93c8>"
      ]
     },
     "execution_count": 41,
     "metadata": {},
     "output_type": "execute_result"
    }
   ],
   "source": [
    "# Train the model \n",
    "new_model.fit_generator(\n",
    "    train_generator,\n",
    "    steps_per_epoch = NUM_TRAIN/BATCH_SIZE,\n",
    "    epochs = NUM_EPOCHS,\n",
    "    validation_data = test_generator,\n",
    "    callbacks = [checkpoint, early])"
   ]
  },
  {
   "cell_type": "code",
   "execution_count": 8,
   "metadata": {},
   "outputs": [
    {
     "name": "stdout",
     "output_type": "stream",
     "text": [
      "Found 3813 images belonging to 18 classes.\n",
      "[0.9550693293209311, 0.8400209808706018]\n"
     ]
    }
   ],
   "source": [
    "# For test data, rescaling will do\n",
    "full_test_datagen = ImageDataGenerator(\n",
    "    rescale = 1./255)\n",
    "full_test_generator = full_test_datagen.flow_from_directory(\n",
    "    'data/test',\n",
    "    target_size = (IMG_HEIGHT, IMG_WIDTH),\n",
    "    class_mode = \"categorical\")\n",
    "res = trained_model.evaluate_generator(full_test_generator)\n",
    "print(res)"
   ]
  },
  {
   "cell_type": "code",
   "execution_count": 26,
   "metadata": {},
   "outputs": [
    {
     "name": "stdout",
     "output_type": "stream",
     "text": [
      "Found 3813 images belonging to 18 classes.\n",
      "[0.4735072146023536, 0.8397587201834787]\n"
     ]
    }
   ],
   "source": [
    "model = load_model(\"inception_v4_hinge_all.h5\")\n",
    "# For test data, rescaling will do\n",
    "full_test_datagen = ImageDataGenerator(\n",
    "    rescale = 1./255)\n",
    "full_test_generator = full_test_datagen.flow_from_directory(\n",
    "    'data/test',\n",
    "    target_size = (IMG_HEIGHT, IMG_WIDTH),\n",
    "    class_mode = \"categorical\")\n",
    "res = model.evaluate_generator(full_test_generator)\n",
    "print(res)"
   ]
  },
  {
   "cell_type": "code",
   "execution_count": null,
   "metadata": {},
   "outputs": [],
   "source": []
  }
 ],
 "metadata": {
  "kernelspec": {
   "display_name": "Python 3",
   "language": "python",
   "name": "python3"
  },
  "language_info": {
   "codemirror_mode": {
    "name": "ipython",
    "version": 3
   },
   "file_extension": ".py",
   "mimetype": "text/x-python",
   "name": "python",
   "nbconvert_exporter": "python",
   "pygments_lexer": "ipython3",
   "version": "3.6.4"
  }
 },
 "nbformat": 4,
 "nbformat_minor": 2
}
